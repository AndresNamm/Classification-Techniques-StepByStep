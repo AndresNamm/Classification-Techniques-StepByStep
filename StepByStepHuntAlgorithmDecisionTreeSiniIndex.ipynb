{
 "cells": [
  {
   "cell_type": "markdown",
   "metadata": {
    "collapsed": false
   },
   "source": [
    "#Task1\n",
    "\n",
    "_References_\n",
    "[Calculating Decision tree using Hunts Algorithm](http://www.saedsayad.com/decision_tree.htm), \n",
    "[Gini index](https://stats.stackexchange.com/questions/77213/computing-the-gini-index)\n",
    "\n",
    "Consider the data given in Table 1. Construct a decision tree using the following rules: (i) at each step\n",
    "compute the gini index for every possible split considering all attributes and select the split with the best\n",
    "gini value; (ii) Stopping rule: when the **gini value of a node is zero** or **no further split is possible**; and (iii)\n",
    "the class of a leaf node is determined by a majority rule (breaking ties arbitrarily). Using the decision tree\n",
    "you built, predict the class value of the record: ('Rainy','Hot',Windy='F').\n",
    "\n",
    "\n",
    "\n",
    "Outlook Temperature Windy Play  \n",
    "Sunny Hot False Y  \n",
    "Sunny Mild False Y  \n",
    "Rainy Mild False N  \n",
    "Sunny Hot True N  \n",
    "Sunny Hot True N  \n",
    "Rainy Mild True N  "
   ]
  },
  {
   "cell_type": "code",
   "execution_count": 44,
   "metadata": {},
   "outputs": [],
   "source": [
    "import math\n",
    "def gini(node):\n",
    "    ans=1.0\n",
    "    sum=0.0\n",
    "    for c in node:\n",
    "        sum+=c\n",
    "    for c in node:\n",
    "        ans-=math.pow(c/sum,2)\n",
    "        #print(math.pow(c/sum,2))\n",
    "        #print(ans)\n",
    "    return ans\n",
    "\n",
    "def summation(arr):\n",
    "    sum=0\n",
    "    for n in arr:\n",
    "        sum+=n\n",
    "    return sum\n",
    "\n",
    "def giniCalculation(feature, n1,n2):\n",
    "    print(feature)\n",
    "    print(\"Y N\")\n",
    "    g1=gini(n1)\n",
    "    g2=gini(n2)\n",
    "    total=summation(n1)+summation(n2)\n",
    "    tGini=summation(n1)/total*g1+summation(n2)/total*g2\n",
    "\n",
    "    print(\"n1\",n1)\n",
    "    print(\"n2\",n2)\n",
    "    print(\"g1\",g1)\n",
    "    print(\"g2\",g2)\n",
    "    print(\"total\",total)\n",
    "    print(\"tGini\", tGini)"
   ]
  },
  {
   "cell_type": "markdown",
   "metadata": {},
   "source": [
    "##Choosing the first Split \n",
    "###Outlook\n",
    "Outlook Temperature Windy Play  \n",
    "Sunny Hot False Y  \n",
    "Sunny Mild False Y  \n",
    "Sunny Hot True N  \n",
    "Sunny Hot True N  \n",
    "\n",
    "\n",
    "Outlook Temperature Windy Play  \n",
    "Rainy Mild False N  \n",
    "Rainy Mild True N  \n",
    "\n",
    "\n"
   ]
  },
  {
   "cell_type": "code",
   "execution_count": 45,
   "metadata": {},
   "outputs": [
    {
     "name": "stdout",
     "output_type": "stream",
     "text": [
      "Outlook\nY N\n('n1', [2.0, 2.0])\n('n2', [0.0, 2.0])\n('g1', 0.5)\n('g2', 0.0)\n('total', 6.0)\n('tGini', 0.3333333333333333)\n"
     ]
    }
   ],
   "source": [
    "giniCalculation(\"Outlook\", [2.0,2.0],[0.0,2.0])"
   ]
  },
  {
   "cell_type": "markdown",
   "metadata": {},
   "source": [
    "###Temperature\n",
    "\n",
    "Outlook Temperature Windy Play  \n",
    "Sunny Hot False Y  \n",
    "Sunny Hot True N  \n",
    "Sunny Hot True N  \n",
    "\n",
    "Rainy Mild True N      \n",
    "Sunny Mild False Y      \n",
    "Rainy Mild False N   "
   ]
  },
  {
   "cell_type": "code",
   "execution_count": 46,
   "metadata": {},
   "outputs": [
    {
     "name": "stdout",
     "output_type": "stream",
     "text": [
      "Temperature\nY N\n('n1', [1.0, 2.0])\n('n2', [1.0, 2.0])\n('g1', 0.4444444444444444)\n('g2', 0.4444444444444444)\n('total', 6.0)\n('tGini', 0.4444444444444444)\n"
     ]
    }
   ],
   "source": [
    "giniCalculation(\"Temperature\",[1.0,2.0],[1.0,2.0])"
   ]
  },
  {
   "cell_type": "markdown",
   "metadata": {},
   "source": [
    "###Windy\n",
    "\n",
    "Outlook Temperature Windy Play  \n",
    "Sunny Hot True N  \n",
    "Sunny Hot True N  \n",
    "Rainy Mild True N      \n",
    "\n",
    "Sunny Hot False Y  \n",
    "Sunny Mild False Y      \n",
    "Rainy Mild False N   "
   ]
  },
  {
   "cell_type": "code",
   "execution_count": 47,
   "metadata": {
    "collapsed": false
   },
   "outputs": [
    {
     "name": "stdout",
     "output_type": "stream",
     "text": [
      "Windy\nY N\n('n1', [0.0, 3.0])\n('n2', [2.0, 1.0])\n('g1', 0.0)\n('g2', 0.4444444444444445)\n('total', 6.0)\n('tGini', 0.22222222222222224)\n"
     ]
    }
   ],
   "source": [
    "giniCalculation(\"Windy\",[0.0,3.0],[2.0,1.0])"
   ]
  },
  {
   "cell_type": "markdown",
   "metadata": {},
   "source": [
    ""
   ]
  },
  {
   "cell_type": "markdown",
   "metadata": {},
   "source": [
    "Choosing Windy as Split attribute, because it has the lowest Gini Index.   \n",
    "**Node1**('g1', 0.0)Stopping condiditon reached at Node1, because gini = 0.0  \n",
    "Outlook Temperature Windy Play  \n",
    "Sunny Hot True N  \n",
    "Sunny Hot True N  \n",
    "Rainy Mild True N      \n",
    "**Node2**('g2', 0.4444444444444445)    \n",
    "Sunny Hot False Y  \n",
    "Sunny Mild False Y      \n",
    "Rainy Mild False N   "
   ]
  },
  {
   "cell_type": "markdown",
   "metadata": {},
   "source": [
    "## Choosing the second split on Node 2\n",
    "\n",
    "### Outlook \n",
    "Outlook Temperature Windy Play    \n",
    "Sunny Hot False Y  \n",
    "Sunny Mild False Y  \n",
    "\n",
    "      \n",
    "Rainy Mild False N   \n",
    "\n",
    "\n"
   ]
  },
  {
   "cell_type": "code",
   "execution_count": 48,
   "metadata": {},
   "outputs": [
    {
     "name": "stdout",
     "output_type": "stream",
     "text": [
      "Outlook\nY N\n('n1', [2.0, 0.0])\n('n2', [0.0, 1.0])\n('g1', 0.0)\n('g2', 0.0)\n('total', 3.0)\n('tGini', 0.0)\n"
     ]
    }
   ],
   "source": [
    "giniCalculation(\"Outlook\", [2.0,0.0],[0.0,1.0])"
   ]
  },
  {
   "cell_type": "markdown",
   "metadata": {},
   "source": [
    "### Temperature\n",
    "\n",
    "Outlook Temperature Windy Play  \n",
    "Sunny Hot False Y  \n",
    "\n",
    "Sunny Mild False Y  \n",
    "Rainy Mild False N   \n",
    "\n",
    "\n"
   ]
  },
  {
   "cell_type": "code",
   "execution_count": 49,
   "metadata": {},
   "outputs": [
    {
     "name": "stdout",
     "output_type": "stream",
     "text": [
      "Temperature\nY N\n('n1', [1.0, 0.0])\n('n2', [1.0, 1.0])\n('g1', 0.0)\n('g2', 0.5)\n('total', 3.0)\n('tGini', 0.3333333333333333)\n"
     ]
    }
   ],
   "source": [
    "giniCalculation(\"Temperature\",[1.0,0.0],[1.0,1.0])"
   ]
  },
  {
   "cell_type": "markdown",
   "metadata": {},
   "source": [
    "Choosing Outlook as a split attribute, because it has the lowest gini index, 0.\n",
    "\n",
    "### Outlook \n",
    "\n",
    "**Node1** ('g1', 0.0) Stopping condition reached   \n",
    "Outlook Temperature Windy Play    \n",
    "Sunny Hot False Y  \n",
    "Sunny Mild False Y  \n",
    "\n",
    "**Node** ('g2', 0.0) Stopping condition reached    \n",
    "Rainy Mild False N   \n",
    "\n",
    "\n",
    "Since we have reached stopping condition on all the subtrees, we will stop. \n",
    "\n"
   ]
  },
  {
   "cell_type": "code",
   "execution_count": null,
   "metadata": {},
   "outputs": [],
   "source": [
    ""
   ]
  }
 ],
 "metadata": {
  "kernelspec": {
   "display_name": "Python 2",
   "language": "python",
   "name": "python2"
  },
  "language_info": {
   "codemirror_mode": {
    "name": "ipython",
    "version": 2.0
   },
   "file_extension": ".py",
   "mimetype": "text/x-python",
   "name": "python",
   "nbconvert_exporter": "python",
   "pygments_lexer": "ipython2",
   "version": "2.7.6"
  }
 },
 "nbformat": 4,
 "nbformat_minor": 0
}