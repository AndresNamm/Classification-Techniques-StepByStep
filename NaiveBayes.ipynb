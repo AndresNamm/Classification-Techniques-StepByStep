{
 "cells": [
  {
   "cell_type": "markdown",
   "metadata": {
    "collapsed": true
   },
   "source": [
    "# Using the Naive Bayes Classifier To Predict Class\n",
    "\n",
    "\n",
    "Consider the data given in Table 2 from an employee database, where \"Status\" is the class attribute. Using the Naive-Bayes classifer, predict the class value of the   \n",
    "**record: (`marketing', 31-35,46k-50k)**. _Show all the steps_.\n",
    "\n",
    "<pre>\n",
    "\n",
    "| Department | Age   | Salary  | Status | \n",
    "|------------|-------|---------|--------| \n",
    "| marketing  | 26-30 | 46K-50K | junior | \n",
    "| marketing  | 31-35 | 41K-45K | junior | \n",
    "| secretary  | 46-50 | 36K-40K | senior | \n",
    "| sales      | 26-30 | 25K-30K | junior | \n",
    "| systems    | 41-45 | 66K-70K | senior | \n",
    "| sales      | 31-35 | 46K-50K | junior | \n",
    "| marketing  | 36-40 | 46K-50K | senior | \n",
    "| systems    | 21-25 | 46K-50K | junior | \n",
    "| systems    | 31-35 | 66K-70K | senior | \n",
    "| secretary  | 26-30 | 25K-30K | junior | \n",
    "| sales      | 31-35 | 31K-35K | junior | \n",
    "\n",
    "</pre>\n",
    "\n"
   ]
  },
  {
   "cell_type": "code",
   "execution_count": null,
   "metadata": {},
   "outputs": [],
   "source": [
    ""
   ]
  },
  {
   "cell_type": "markdown",
   "metadata": {},
   "source": [
    ""
   ]
  },
  {
   "cell_type": "markdown",
   "metadata": {},
   "source": [
    "## Extract Amounts of Elements\n",
    "_ Not super-important to understand numpy to understand bayes rule, but \n",
    "I implemented the amount specification with numpy; Some tutorials about numpy_  \n",
    "[Numpy](http://cs231n.github.io/python-numpy-tutorial/)  \n",
    "[Csv to Numpy](https://docs.scipy.org/doc/numpy/reference/generated/numpy.genfromtxt.html)  \n",
    "[Filtering, Vectorization, Numpy](http://stackoverflow.com/questions/11953111/numpy-how-to-filter-matrix-lines)    \n",
    "[Numpy get Index](http://stackoverflow.com/questions/18079029/index-of-element-in-numpy-array)  \n",
    "[Numpy 1 element ndarray to int](http://stackoverflow.com/questions/30311172/convert-list-or-numpy-array-of-single-element-to-float-in-python)  \n",
    "\n",
    "**Numbers that are important to use the bayes rule**\n",
    "\n",
    "* Number of junior status members \n",
    "* Number of senior status members\n",
    "* Number of all members\n",
    "* Number of junior status members who are in Department of Marketing\n",
    "* Number of junior status members who are in Agegroup 31-35\n",
    "* Number of junior status members who are receive Salary in range 46k-50k"
   ]
  },
  {
   "cell_type": "code",
   "execution_count": 122,
   "metadata": {},
   "outputs": [
    {
     "name": "stdout",
     "output_type": "stream",
     "text": [
      "('Sample size ', 11)\n('Junior members', 7)\n('Senior members', 4)\n('Junior and marketing ', 2)\n('Junior and 31-35', 3)\n('Junior and 45-50k', 3)\n('Senior and marketing ', 1)\n('Senior and 31-35', 1)\n('Senior and 45-50k', 1)\n"
     ]
    }
   ],
   "source": [
    "import numpy as np\n",
    "completeFile = np.genfromtxt('bayes.csv', delimiter=';',  dtype = str )\n",
    "header=completeFile[0,:]\n",
    "data=completeFile[1:,:]\n",
    "\n",
    "\n",
    "jun=data[:,-1]==\"junior\"\n",
    "sen=data[:,-1]==\"senior\"\n",
    "junior=data[jun,:]\n",
    "senior=data[sen,:]\n",
    "\n",
    "\n",
    "print(\"Sample size \",len(data))\n",
    "print(\"Junior members\", len(junior))\n",
    "print(\"Senior members\", len(senior))\n",
    "\n",
    "# Juniors Marketing \n",
    "department= int(np.where( header == \"Department\")[0])\n",
    "marketing=junior[:,department]==\"marketing\"\n",
    "jun_mark=len(junior[marketing,:])\n",
    "# Juniors 31-35\n",
    "age= int(np.where(header==\"Age\")[0])\n",
    "middleAged=junior[:,age]==\"31-35\"\n",
    "jun_mAge=len(junior[middleAged,:])\n",
    "# Juniors 45-50k\n",
    "salary=int(np.where(header==\"Salary\")[0])\n",
    "k46_50=junior[:,salary]==\"46K-50K\"\n",
    "jun_46K_50K=len(junior[k46_50,:])\n",
    "\n",
    "print(\"Junior and marketing \", jun_mark)\n",
    "print(\"Junior and 31-35\" , jun_mAge)\n",
    "print(\"Junior and 45-50k\", jun_46K_50K)\n",
    "\n",
    "# seniors Marketing \n",
    "marketing=senior[:,department]==\"marketing\"\n",
    "sen_mark=len(senior[marketing,:])\n",
    "# seniors 31-35\n",
    "middleAged=senior[:,age]==\"31-35\"\n",
    "sen_mAge=len(senior[middleAged,:])\n",
    "# seniors 45-50k\n",
    "k46_50=senior[:,salary]==\"46K-50K\"\n",
    "sen_46K_50K=len(senior[k46_50,:])\n",
    "\n",
    "\n",
    "print(\"Senior and marketing \", sen_mark)\n",
    "print(\"Senior and 31-35\" , sen_mAge)\n",
    "print(\"Senior and 45-50k\", sen_46K_50K)"
   ]
  },
  {
   "cell_type": "markdown",
   "metadata": {
    "collapsed": true
   },
   "source": [
    "## Naive Bayes Algorithm \n",
    "\n",
    "We now use the Naive Bayes Algorithm to predict Class for example: **record: (`marketing', 31-35,46k-50k)**. \n",
    "\n",
    "We assume independence of conditional probabilities, that means \n",
    "$$ P(X \\mid C) = P(X1 \\mid Ci)\\,P(X2 \\mid Ci)\\,P(X3 \\mid Ci) $$  \n",
    "\n",
    "C stands for random variable class; X stands for random variable feature  \n",
    "$$ P(C \\mid X) = \\frac{P(X1 \\mid Ci)\\,P(X2 \\mid Ci)\\,P(X3 \\mid Ci) \\, P(Ci)}{P(X)} $$\n",
    "\n",
    "\n",
    "P( X ) stays the same always, thus we dont need to keep it for calculation. The result we get is proportional to \n",
    "$$P(C \\mid X) = P(X1 \\mid Ci)\\,P(X2 \\mid Ci)\\,P(X3 \\mid Ci) \\, P(Ci)$$\n",
    "\n",
    "I also assume, that price ranges are discrete variables, thus I will just calculate the conditional probabilities. \n",
    "\n",
    "\n",
    "\n"
   ]
  },
  {
   "cell_type": "code",
   "execution_count": 129,
   "metadata": {
    "collapsed": true
   },
   "outputs": [
    {
     "name": "stdout",
     "output_type": "stream",
     "text": [
      "Junior\n('Conditional Probabilities', [0.42857142857142855, 0.2857142857142857, 0.42857142857142855])\n('Probability of class ', 0.6363636363636364)\n('P(C|X)', 0.0333951762523191)\nSenior\n('Conditional Probabilities', [0.25, 0.25, 0.25])\n('Probability of class ', 0.36363636363636365)\n('P(C|X)', 0.005681818181818182)\n"
     ]
    }
   ],
   "source": [
    "def bayesCalculator(sampleSize,nrClasses, lConditionalFeatures):\n",
    "\n",
    "    sampleSize=float(sampleSize)\n",
    "    nrClasses=float(nrClasses)\n",
    "    lCoPr=[]\n",
    "    for f in lConditionalFeatures:\n",
    "        lCoPr.append(float(f)/float(nrClasses))\n",
    "    ans=1.0q\n",
    "    print(\"Conditional Probabilities\", lCoPr)\n",
    "\n",
    "    print(\"Probability of class \", nrClasses/sampleSize  )\n",
    "    for i in lCoPr:\n",
    "        ans*=i\n",
    "        \n",
    "    ans=ans*nrClasses/sampleSize\n",
    "    print(\"P(C|X)\" , ans)\n",
    "    \n",
    "# Status = senior\n",
    "\n",
    "print(\"Junior\")\n",
    "bayesCalculator(len(data), len(junior), [jun_46K_50K,jun_mark,jun_mAge])\n",
    "\n",
    "print(\"Senior\")\n",
    "bayesCalculator(len(data), len(senior), [sen_46K_50K,sen_mark,sen_mAge])"
   ]
  },
  {
   "cell_type": "markdown",
   "metadata": {},
   "source": [
    "## Rule based on probabilities\n",
    "Because P(C|X) is greater for junior we assume, that This feature belongs to the junior status. "
   ]
  }
 ],
 "metadata": {
  "kernelspec": {
   "display_name": "Python 2",
   "language": "python",
   "name": "python2"
  },
  "language_info": {
   "codemirror_mode": {
    "name": "ipython",
    "version": 2.0
   },
   "file_extension": ".py",
   "mimetype": "text/x-python",
   "name": "python",
   "nbconvert_exporter": "python",
   "pygments_lexer": "ipython2",
   "version": "2.7.6"
  }
 },
 "nbformat": 4,
 "nbformat_minor": 0
}